{
 "cells": [
  {
   "cell_type": "markdown",
   "metadata": {
    "ExecuteTime": {
     "end_time": "2022-04-06T12:41:26.434274Z",
     "start_time": "2022-04-06T12:41:26.419304Z"
    }
   },
   "source": [
    "# Notebook showing the usage of HMLC"
   ]
  },
  {
   "cell_type": "markdown",
   "metadata": {},
   "source": [
    "## Preliminaries"
   ]
  },
  {
   "cell_type": "code",
   "execution_count": 1,
   "metadata": {
    "ExecuteTime": {
     "end_time": "2022-04-06T15:25:55.763287Z",
     "start_time": "2022-04-06T15:25:46.599199Z"
    }
   },
   "outputs": [],
   "source": [
    "import pandas as pd, time, os\n",
    "from hmlc import HMLC"
   ]
  },
  {
   "cell_type": "code",
   "execution_count": 2,
   "metadata": {
    "ExecuteTime": {
     "end_time": "2022-04-06T15:25:56.451072Z",
     "start_time": "2022-04-06T15:25:55.763287Z"
    }
   },
   "outputs": [
    {
     "data": {
      "text/html": [
       "<div>\n",
       "<style scoped>\n",
       "    .dataframe tbody tr th:only-of-type {\n",
       "        vertical-align: middle;\n",
       "    }\n",
       "\n",
       "    .dataframe tbody tr th {\n",
       "        vertical-align: top;\n",
       "    }\n",
       "\n",
       "    .dataframe thead th {\n",
       "        text-align: right;\n",
       "    }\n",
       "</style>\n",
       "<table border=\"1\" class=\"dataframe\">\n",
       "  <thead>\n",
       "    <tr style=\"text-align: right;\">\n",
       "      <th></th>\n",
       "      <th>x_productId</th>\n",
       "      <th>x_Title</th>\n",
       "      <th>x_userId</th>\n",
       "      <th>x_Helpfulness</th>\n",
       "      <th>x_Score</th>\n",
       "      <th>x_Time</th>\n",
       "      <th>x_Text</th>\n",
       "      <th>y_Cat1</th>\n",
       "      <th>y_Cat2</th>\n",
       "      <th>y_Cat3</th>\n",
       "    </tr>\n",
       "  </thead>\n",
       "  <tbody>\n",
       "    <tr>\n",
       "      <th>0</th>\n",
       "      <td>B000E46LYG</td>\n",
       "      <td>Golden Valley Natural Buffalo Jerky</td>\n",
       "      <td>A3MQDNGHDJU4MK</td>\n",
       "      <td>0/0</td>\n",
       "      <td>3.0</td>\n",
       "      <td>-1</td>\n",
       "      <td>The description and photo on this product need...</td>\n",
       "      <td>grocery gourmet food</td>\n",
       "      <td>meat poultry</td>\n",
       "      <td>jerky</td>\n",
       "    </tr>\n",
       "    <tr>\n",
       "      <th>1</th>\n",
       "      <td>B000GRA6N8</td>\n",
       "      <td>Westing Game</td>\n",
       "      <td>unknown</td>\n",
       "      <td>0/0</td>\n",
       "      <td>5.0</td>\n",
       "      <td>860630400</td>\n",
       "      <td>This was a great book!!!! It is well thought t...</td>\n",
       "      <td>toys games</td>\n",
       "      <td>games</td>\n",
       "      <td>unknown</td>\n",
       "    </tr>\n",
       "    <tr>\n",
       "      <th>2</th>\n",
       "      <td>B000GRA6N8</td>\n",
       "      <td>Westing Game</td>\n",
       "      <td>unknown</td>\n",
       "      <td>0/0</td>\n",
       "      <td>5.0</td>\n",
       "      <td>883008000</td>\n",
       "      <td>I am a first year teacher, teaching 5th grade....</td>\n",
       "      <td>toys games</td>\n",
       "      <td>games</td>\n",
       "      <td>unknown</td>\n",
       "    </tr>\n",
       "  </tbody>\n",
       "</table>\n",
       "</div>"
      ],
      "text/plain": [
       "  x_productId                              x_Title        x_userId  \\\n",
       "0  B000E46LYG  Golden Valley Natural Buffalo Jerky  A3MQDNGHDJU4MK   \n",
       "1  B000GRA6N8                         Westing Game         unknown   \n",
       "2  B000GRA6N8                         Westing Game         unknown   \n",
       "\n",
       "  x_Helpfulness  x_Score     x_Time  \\\n",
       "0           0/0      3.0         -1   \n",
       "1           0/0      5.0  860630400   \n",
       "2           0/0      5.0  883008000   \n",
       "\n",
       "                                              x_Text                y_Cat1  \\\n",
       "0  The description and photo on this product need...  grocery gourmet food   \n",
       "1  This was a great book!!!! It is well thought t...            toys games   \n",
       "2  I am a first year teacher, teaching 5th grade....            toys games   \n",
       "\n",
       "         y_Cat2   y_Cat3  \n",
       "0  meat poultry    jerky  \n",
       "1         games  unknown  \n",
       "2         games  unknown  "
      ]
     },
     "execution_count": 2,
     "metadata": {},
     "output_type": "execute_result"
    }
   ],
   "source": [
    "# read and clean the data\n",
    "data_path = r\"C:\\Users\\sinori\\Documents\\OneDrive - Microsoft\\Misc\\Multi level hierarchical classification\\hmlc_github_repo\\dstoolkit-hierarchical-multilabel-classification\\datasets\\Amazon_reviews\"\n",
    "_data = os.path.join(data_path, \"amazon_reviews_train.csv\")\n",
    "dt = pd.read_csv(_data)\n",
    "dt.head(3)"
   ]
  },
  {
   "cell_type": "code",
   "execution_count": 3,
   "metadata": {
    "ExecuteTime": {
     "end_time": "2022-04-06T15:25:56.527025Z",
     "start_time": "2022-04-06T15:25:56.451072Z"
    }
   },
   "outputs": [
    {
     "name": "stdout",
     "output_type": "stream",
     "text": [
      "Rows before dropping null rows: 40,000\n",
      "Rows after dropping null rows: 39,984\n"
     ]
    }
   ],
   "source": [
    "print(f'Rows before dropping null rows: {len(dt):,}')\n",
    "dt = dt.dropna()\n",
    "print(f'Rows after dropping null rows: {len(dt):,}')\n",
    "\n",
    "# truncate data to expedite the demo\n",
    "dt_train = dt[:5000]\n",
    "dt_val = dt[5000:6001]\n",
    "input_col_list = ['x_productId', 'x_Title', 'x_userId', 'x_Helpfulness',\n",
    "                    'x_Score', 'x_Time', 'x_Text']\n",
    "output_col_list = ['y_Cat1', 'y_Cat2', 'y_Cat3']"
   ]
  },
  {
   "cell_type": "markdown",
   "metadata": {},
   "source": [
    "## Find the best approach"
   ]
  },
  {
   "cell_type": "code",
   "execution_count": 4,
   "metadata": {
    "ExecuteTime": {
     "end_time": "2022-04-06T15:28:43.169727Z",
     "start_time": "2022-04-06T15:25:56.529454Z"
    }
   },
   "outputs": [
    {
     "name": "stderr",
     "output_type": "stream",
     "text": [
      "INFO:root:Number of features in vectorizer = 4663\n",
      "INFO:root:Number of features in vectorizer = 5000\n",
      "INFO:root:Shape of training data set = (3999, 7678);test_data_set = (1000, 7678)\n",
      "INFO:root:Accuracy of model =  0.5380\n",
      "INFO:root:Shape of training data set = (3999, 7679);test_data_set = (1000, 7679)\n",
      "INFO:root:Accuracy of model =  0.1850\n",
      "INFO:root:Shape of training data set = (3999, 7680);test_data_set = (1000, 7680)\n",
      "INFO:root:Accuracy of model =  0.1880\n"
     ]
    },
    {
     "name": "stdout",
     "output_type": "stream",
     "text": [
      "\n",
      "Accuracy with Chained Model Approach using RandomForestClassifier(max_depth=3, random_state=13) = 0.0450\n",
      "Hamming loss in Chained Model Approach using RandomForestClassifier(max_depth=3, random_state=13) = 0.7023\n"
     ]
    },
    {
     "name": "stderr",
     "output_type": "stream",
     "text": [
      "INFO:root:Shape of training data set = (3999, 7678);test_data_set = (1000, 7678)\n",
      "INFO:root:Accuracy of model =  0.5380\n",
      "INFO:root:Shape of training data set = (3999, 7678);test_data_set = (1000, 7678)\n",
      "INFO:root:Accuracy of model =  0.1810\n",
      "INFO:root:Shape of training data set = (3999, 7678);test_data_set = (1000, 7678)\n",
      "INFO:root:Accuracy of model =  0.1580\n"
     ]
    },
    {
     "name": "stdout",
     "output_type": "stream",
     "text": [
      "\n",
      "Accuracy with Independent Model Approach using RandomForestClassifier(max_depth=3, random_state=13) = 0.0330\n",
      "Hamming loss in Independent Model Approach using RandomForestClassifier(max_depth=3, random_state=13) =  0.7077\n"
     ]
    },
    {
     "name": "stderr",
     "output_type": "stream",
     "text": [
      "INFO:root:Shape of training data set = (3999, 7678);test_data_set = (1000, 7678)\n",
      "INFO:root:Accuracy of model =  0.1540\n"
     ]
    },
    {
     "name": "stdout",
     "output_type": "stream",
     "text": [
      "\n",
      "Accuracy with Powerset Model using RandomForestClassifier(max_depth=3, random_state=13) =  0.1540\n",
      "Hamming loss in Powerset Model using RandomForestClassifier(max_depth=3, random_state=13) =  0.6777\n"
     ]
    },
    {
     "name": "stderr",
     "output_type": "stream",
     "text": [
      "INFO:root:Shape of training data set = (3999, 7678);test_data_set = (1000, 7678)\n",
      "INFO:root:Accuracy of model =  0.7280\n",
      "INFO:root:Shape of training data set = (3999, 7679);test_data_set = (1000, 7679)\n",
      "INFO:root:Accuracy of model =  0.5240\n",
      "INFO:root:Shape of training data set = (3999, 7680);test_data_set = (1000, 7680)\n",
      "INFO:root:Accuracy of model =  0.5350\n"
     ]
    },
    {
     "name": "stdout",
     "output_type": "stream",
     "text": [
      "\n",
      "Accuracy with Chained Model Approach using ExtraTreesClassifier(n_estimators=50, random_state=13) = 0.3530\n",
      "Hamming loss in Chained Model Approach using ExtraTreesClassifier(n_estimators=50, random_state=13) = 0.4777\n"
     ]
    },
    {
     "name": "stderr",
     "output_type": "stream",
     "text": [
      "INFO:root:Shape of training data set = (3999, 7678);test_data_set = (1000, 7678)\n",
      "INFO:root:Accuracy of model =  0.7280\n",
      "INFO:root:Shape of training data set = (3999, 7678);test_data_set = (1000, 7678)\n",
      "INFO:root:Accuracy of model =  0.4540\n",
      "INFO:root:Shape of training data set = (3999, 7678);test_data_set = (1000, 7678)\n",
      "INFO:root:Accuracy of model =  0.4050\n"
     ]
    },
    {
     "name": "stdout",
     "output_type": "stream",
     "text": [
      "\n",
      "Accuracy with Independent Model Approach using ExtraTreesClassifier(n_estimators=50, random_state=13) = 0.3250\n",
      "Hamming loss in Independent Model Approach using ExtraTreesClassifier(n_estimators=50, random_state=13) =  0.4710\n"
     ]
    },
    {
     "name": "stderr",
     "output_type": "stream",
     "text": [
      "INFO:root:Shape of training data set = (3999, 7678);test_data_set = (1000, 7678)\n",
      "INFO:root:Accuracy of model =  0.4030\n"
     ]
    },
    {
     "name": "stdout",
     "output_type": "stream",
     "text": [
      "\n",
      "Accuracy with Powerset Model using ExtraTreesClassifier(n_estimators=50, random_state=13) =  0.4030\n",
      "Hamming loss in Powerset Model using ExtraTreesClassifier(n_estimators=50, random_state=13) =  0.4640\n"
     ]
    },
    {
     "name": "stderr",
     "output_type": "stream",
     "text": [
      "INFO:root:Execution terminated due to time limit at 129.4166557788849, 159.4166557788849\n"
     ]
    },
    {
     "name": "stdout",
     "output_type": "stream",
     "text": [
      "Total time taken to train models : 0:02:47\n"
     ]
    }
   ],
   "source": [
    "# find the best_approach model\n",
    "hmlc_obj = HMLC()\n",
    "t0 = time.time()\n",
    "best_approach = hmlc_obj.fit(dt_train[input_col_list], dt_train[output_col_list])\n",
    "time_elapsed = best_approach.tl(t0)\n",
    "print(f\"Total time taken to train models : {time_elapsed}\")"
   ]
  },
  {
   "cell_type": "markdown",
   "metadata": {},
   "source": [
    "## Inferring with the model"
   ]
  },
  {
   "cell_type": "code",
   "execution_count": 5,
   "metadata": {
    "ExecuteTime": {
     "end_time": "2022-04-06T15:28:56.814538Z",
     "start_time": "2022-04-06T15:28:43.175679Z"
    }
   },
   "outputs": [
    {
     "data": {
      "text/html": [
       "<div>\n",
       "<style scoped>\n",
       "    .dataframe tbody tr th:only-of-type {\n",
       "        vertical-align: middle;\n",
       "    }\n",
       "\n",
       "    .dataframe tbody tr th {\n",
       "        vertical-align: top;\n",
       "    }\n",
       "\n",
       "    .dataframe thead th {\n",
       "        text-align: right;\n",
       "    }\n",
       "</style>\n",
       "<table border=\"1\" class=\"dataframe\">\n",
       "  <thead>\n",
       "    <tr style=\"text-align: right;\">\n",
       "      <th></th>\n",
       "      <th>x_productId</th>\n",
       "      <th>x_Title</th>\n",
       "      <th>x_userId</th>\n",
       "      <th>x_Helpfulness</th>\n",
       "      <th>x_Score</th>\n",
       "      <th>x_Time</th>\n",
       "      <th>x_Text</th>\n",
       "      <th>y_Cat1</th>\n",
       "      <th>y_Cat2</th>\n",
       "      <th>y_Cat3</th>\n",
       "      <th>y_Cat1_pred</th>\n",
       "      <th>y_Cat2_pred</th>\n",
       "      <th>y_Cat3_pred</th>\n",
       "    </tr>\n",
       "  </thead>\n",
       "  <tbody>\n",
       "    <tr>\n",
       "      <th>0</th>\n",
       "      <td>B000056OWT</td>\n",
       "      <td>Safety 1st Crystal Clear Baby Monitor, White</td>\n",
       "      <td>AGB7JDXAH08GR</td>\n",
       "      <td>6/6</td>\n",
       "      <td>4.0</td>\n",
       "      <td>1128816000</td>\n",
       "      <td>I bought this specifically because it DID NOT ...</td>\n",
       "      <td>baby products</td>\n",
       "      <td>safety</td>\n",
       "      <td>monitors</td>\n",
       "      <td>toys games</td>\n",
       "      <td>games</td>\n",
       "      <td>board games</td>\n",
       "    </tr>\n",
       "    <tr>\n",
       "      <th>1</th>\n",
       "      <td>B0003069ZC</td>\n",
       "      <td>Batman Begins Batmobile Vehicle</td>\n",
       "      <td>A271PPZMLZU454</td>\n",
       "      <td>9/10</td>\n",
       "      <td>5.0</td>\n",
       "      <td>1128816000</td>\n",
       "      <td>All of the kids love this batmobile. Unfortuna...</td>\n",
       "      <td>toys games</td>\n",
       "      <td>action toy figures</td>\n",
       "      <td>accessories</td>\n",
       "      <td>toys games</td>\n",
       "      <td>action toy figures</td>\n",
       "      <td>figures</td>\n",
       "    </tr>\n",
       "    <tr>\n",
       "      <th>2</th>\n",
       "      <td>B00006K110</td>\n",
       "      <td>Conair QWCS Quick Wrap Hair Art Styling Kit</td>\n",
       "      <td>A3LB2K5G257DNU</td>\n",
       "      <td>7/7</td>\n",
       "      <td>5.0</td>\n",
       "      <td>1128816000</td>\n",
       "      <td>I had seen this advertised on tv, and thought ...</td>\n",
       "      <td>beauty</td>\n",
       "      <td>hair care</td>\n",
       "      <td>styling tools</td>\n",
       "      <td>pet supplies</td>\n",
       "      <td>cats</td>\n",
       "      <td>litter housebreaking</td>\n",
       "    </tr>\n",
       "  </tbody>\n",
       "</table>\n",
       "</div>"
      ],
      "text/plain": [
       "  x_productId                                       x_Title        x_userId  \\\n",
       "0  B000056OWT  Safety 1st Crystal Clear Baby Monitor, White   AGB7JDXAH08GR   \n",
       "1  B0003069ZC               Batman Begins Batmobile Vehicle  A271PPZMLZU454   \n",
       "2  B00006K110   Conair QWCS Quick Wrap Hair Art Styling Kit  A3LB2K5G257DNU   \n",
       "\n",
       "  x_Helpfulness  x_Score      x_Time  \\\n",
       "0           6/6      4.0  1128816000   \n",
       "1          9/10      5.0  1128816000   \n",
       "2           7/7      5.0  1128816000   \n",
       "\n",
       "                                              x_Text         y_Cat1  \\\n",
       "0  I bought this specifically because it DID NOT ...  baby products   \n",
       "1  All of the kids love this batmobile. Unfortuna...     toys games   \n",
       "2  I had seen this advertised on tv, and thought ...         beauty   \n",
       "\n",
       "               y_Cat2         y_Cat3   y_Cat1_pred         y_Cat2_pred  \\\n",
       "0              safety       monitors    toys games               games   \n",
       "1  action toy figures    accessories    toys games  action toy figures   \n",
       "2           hair care  styling tools  pet supplies                cats   \n",
       "\n",
       "            y_Cat3_pred  \n",
       "0           board games  \n",
       "1               figures  \n",
       "2  litter housebreaking  "
      ]
     },
     "execution_count": 5,
     "metadata": {},
     "output_type": "execute_result"
    }
   ],
   "source": [
    "predictions = best_approach.predict(dt_val[input_col_list])\n",
    "pred_out_cols = [col+'_pred' for col in output_col_list]\n",
    "predictions.df_pred.columns = pred_out_cols\n",
    "y_pred = predictions.df_pred\n",
    "dt_val = dt_val.reset_index(drop=True)\n",
    "dataset_pred = pd.concat([dt_val, y_pred], axis=1)\n",
    "dataset_pred.head(3)"
   ]
  },
  {
   "cell_type": "code",
   "execution_count": 6,
   "metadata": {
    "ExecuteTime": {
     "end_time": "2022-04-06T15:28:56.829797Z",
     "start_time": "2022-04-06T15:28:56.820377Z"
    }
   },
   "outputs": [
    {
     "name": "stdout",
     "output_type": "stream",
     "text": [
      "The best estimator is: ExtraTreesClassifier(n_estimators=50, random_state=13)\n",
      "The best approach is: Powerset Models\n"
     ]
    }
   ],
   "source": [
    "print(f\"The best estimator is: {predictions.best_approach_dict['model']}\")\n",
    "print(f\"The best approach is: {predictions.best_approach_dict['approach']}\")"
   ]
  },
  {
   "cell_type": "markdown",
   "metadata": {
    "ExecuteTime": {
     "end_time": "2022-04-06T12:54:33.174219Z",
     "start_time": "2022-04-06T12:54:33.164316Z"
    }
   },
   "source": [
    "## Explore methods and attributes"
   ]
  },
  {
   "cell_type": "code",
   "execution_count": 7,
   "metadata": {
    "ExecuteTime": {
     "end_time": "2022-04-06T15:28:56.859774Z",
     "start_time": "2022-04-06T15:28:56.834762Z"
    }
   },
   "outputs": [
    {
     "name": "stdout",
     "output_type": "stream",
     "text": [
      "best_approach.abbr_dict = {}\n",
      "[]\n",
      "The above information is useful in cases where one uses HMLC() to quickly identify the best        baseline model and then improve it by tuning hyper-parameters.\n",
      "best_approach.estimators_ = [RandomForestClassifier(max_depth=3, random_state=13), ExtraTreesClassifier(n_estimators=50, random_state=13), GaussianNB()]\n",
      "best_approach.max_features = 5000\n",
      "best_approach.ngram = (1, 1)\n",
      "best_approach.stop_words = 'english'\n",
      "best_approach.time_limit = 30\n",
      "best_approach.token_pattern = '([a-zA-Z0-9/+-]{1,})'\n",
      "best_approach.validation_split = 0.2\n"
     ]
    }
   ],
   "source": [
    "print(f'{best_approach.abbr_dict = }')\n",
    "print(f'{best_approach.additional_colms}')\n",
    "print('The above information is useful in cases where one uses HMLC() to quickly identify the best \\\n",
    "       baseline model and then improve it by tuning hyper-parameters.')\n",
    "print(f'{best_approach.estimators_ = }')\n",
    "print(f'{best_approach.max_features = }')\n",
    "print(f'{best_approach.ngram = }')\n",
    "print(f'{best_approach.stop_words = }')\n",
    "print(f'{best_approach.time_limit = }')\n",
    "print(f'{best_approach.token_pattern = }')\n",
    "print(f'{best_approach.validation_split = }')"
   ]
  },
  {
   "cell_type": "code",
   "execution_count": 8,
   "metadata": {
    "ExecuteTime": {
     "end_time": "2022-04-06T15:28:58.146523Z",
     "start_time": "2022-04-06T15:28:56.864763Z"
    }
   },
   "outputs": [
    {
     "name": "stdout",
     "output_type": "stream",
     "text": [
      "Elapsed: 0:00:01\n"
     ]
    }
   ],
   "source": [
    "# Time logger computes the elapsed time\n",
    "t0 = time.time()\n",
    "time.sleep(1.25)\n",
    "print(f'Elapsed: {best_approach.tl(t0)}')"
   ]
  },
  {
   "cell_type": "markdown",
   "metadata": {
    "ExecuteTime": {
     "end_time": "2022-04-06T14:25:45.636312Z",
     "start_time": "2022-04-06T14:25:45.619789Z"
    }
   },
   "source": [
    "## Predict probability\n",
    "For independent models works exactly like model.predict_proba of any sklearn model\n",
    "In case of other two, a dictionary is returnd"
   ]
  },
  {
   "cell_type": "code",
   "execution_count": 9,
   "metadata": {
    "ExecuteTime": {
     "end_time": "2022-04-06T15:29:14.455176Z",
     "start_time": "2022-04-06T15:28:58.150483Z"
    }
   },
   "outputs": [
    {
     "name": "stdout",
     "output_type": "stream",
     "text": [
      "[[0.   0.   0.   ... 0.08 0.   0.  ]\n",
      " [0.   0.   0.   ... 0.12 0.02 0.04]\n",
      " [0.06 0.   0.   ... 0.08 0.   0.  ]\n",
      " ...\n",
      " [0.02 0.   0.   ... 0.1  0.02 0.  ]\n",
      " [0.02 0.   0.   ... 0.   0.02 0.  ]\n",
      " [0.   0.   0.   ... 0.02 0.   0.  ]]\n"
     ]
    }
   ],
   "source": [
    "proba = best_approach.predict_proba(dt_val[input_col_list])\n",
    "print(proba)"
   ]
  },
  {
   "cell_type": "code",
   "execution_count": 10,
   "metadata": {
    "ExecuteTime": {
     "end_time": "2022-04-06T15:29:14.470179Z",
     "start_time": "2022-04-06T15:29:14.459177Z"
    }
   },
   "outputs": [
    {
     "data": {
      "text/plain": [
       "(1001, 275)"
      ]
     },
     "execution_count": 10,
     "metadata": {},
     "output_type": "execute_result"
    }
   ],
   "source": [
    "proba.shape"
   ]
  },
  {
   "cell_type": "code",
   "execution_count": 11,
   "metadata": {
    "ExecuteTime": {
     "end_time": "2022-04-06T15:29:14.486178Z",
     "start_time": "2022-04-06T15:29:14.475180Z"
    }
   },
   "outputs": [
    {
     "data": {
      "text/plain": [
       "1001"
      ]
     },
     "execution_count": 11,
     "metadata": {},
     "output_type": "execute_result"
    }
   ],
   "source": [
    "len(dt_val)"
   ]
  },
  {
   "cell_type": "markdown",
   "metadata": {},
   "source": [
    "proba shows the probability of each row of dt_val belonging to the 275 classes (all possible combinations in the given data)"
   ]
  },
  {
   "cell_type": "code",
   "execution_count": null,
   "metadata": {},
   "outputs": [],
   "source": []
  }
 ],
 "metadata": {
  "kernelspec": {
   "display_name": "Python 3",
   "language": "python",
   "name": "python3"
  },
  "language_info": {
   "codemirror_mode": {
    "name": "ipython",
    "version": 3
   },
   "file_extension": ".py",
   "mimetype": "text/x-python",
   "name": "python",
   "nbconvert_exporter": "python",
   "pygments_lexer": "ipython3",
   "version": "3.9.0"
  },
  "toc": {
   "base_numbering": 1,
   "nav_menu": {},
   "number_sections": true,
   "sideBar": false,
   "skip_h1_title": true,
   "title_cell": "Table of Contents",
   "title_sidebar": "Contents",
   "toc_cell": false,
   "toc_position": {},
   "toc_section_display": true,
   "toc_window_display": false
  },
  "varInspector": {
   "cols": {
    "lenName": 16,
    "lenType": 16,
    "lenVar": 40
   },
   "kernels_config": {
    "python": {
     "delete_cmd_postfix": "",
     "delete_cmd_prefix": "del ",
     "library": "var_list.py",
     "varRefreshCmd": "print(var_dic_list())"
    },
    "r": {
     "delete_cmd_postfix": ") ",
     "delete_cmd_prefix": "rm(",
     "library": "var_list.r",
     "varRefreshCmd": "cat(var_dic_list()) "
    }
   },
   "types_to_exclude": [
    "module",
    "function",
    "builtin_function_or_method",
    "instance",
    "_Feature"
   ],
   "window_display": false
  }
 },
 "nbformat": 4,
 "nbformat_minor": 4
}
